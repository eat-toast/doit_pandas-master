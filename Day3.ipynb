{
  "nbformat": 4,
  "nbformat_minor": 0,
  "metadata": {
    "colab": {
      "name": "Day3.ipynb",
      "version": "0.3.2",
      "provenance": [],
      "toc_visible": true,
      "include_colab_link": true
    },
    "kernelspec": {
      "name": "python3",
      "display_name": "Python 3"
    }
  },
  "cells": [
    {
      "cell_type": "markdown",
      "metadata": {
        "id": "view-in-github",
        "colab_type": "text"
      },
      "source": [
        "<a href=\"https://colab.research.google.com/github/eat-toast/doit_pandas-master/blob/master/Day3.ipynb\" target=\"_parent\"><img src=\"https://colab.research.google.com/assets/colab-badge.svg\" alt=\"Open In Colab\"/></a>"
      ]
    },
    {
      "metadata": {
        "id": "RoycWinqLHYt",
        "colab_type": "text"
      },
      "cell_type": "markdown",
      "source": [
        ""
      ]
    },
    {
      "metadata": {
        "id": "enl7VDWmLABe",
        "colab_type": "text"
      },
      "cell_type": "markdown",
      "source": [
        "# 3 판다스 데이터 프레임과 시리즈"
      ]
    },
    {
      "metadata": {
        "id": "VdJcQGL7LMqF",
        "colab_type": "text"
      },
      "cell_type": "markdown",
      "source": [
        "## 3-1 나만의 데이터 만들기"
      ]
    },
    {
      "metadata": {
        "id": "WQHIewQGHSwn",
        "colab_type": "code",
        "colab": {}
      },
      "cell_type": "code",
      "source": [
        "# 문자열을 인덱스로 지정하기\n",
        "\n",
        "import pandas as pd"
      ],
      "execution_count": 0,
      "outputs": []
    },
    {
      "metadata": {
        "id": "LFc5z22wLZ3l",
        "colab_type": "code",
        "outputId": "5294eb3b-f8e9-43b1-e8b2-ea8129899d9c",
        "colab": {
          "base_uri": "https://localhost:8080/",
          "height": 71
        }
      },
      "cell_type": "code",
      "source": [
        "s = pd.Series(['A', 'B'])\n",
        "print(s)"
      ],
      "execution_count": 0,
      "outputs": [
        {
          "output_type": "stream",
          "text": [
            "0    A\n",
            "1    B\n",
            "dtype: object\n"
          ],
          "name": "stdout"
        }
      ]
    },
    {
      "metadata": {
        "id": "J3e9W2s7LfHF",
        "colab_type": "code",
        "outputId": "a4386f99-23f9-4cb2-8891-208fb26b8244",
        "colab": {
          "base_uri": "https://localhost:8080/",
          "height": 71
        }
      },
      "cell_type": "code",
      "source": [
        "s = pd.Series(['A', 'B'], index = ['Person', 'Who'])\n",
        "print(s)"
      ],
      "execution_count": 0,
      "outputs": [
        {
          "output_type": "stream",
          "text": [
            "Person    A\n",
            "Who       B\n",
            "dtype: object\n"
          ],
          "name": "stdout"
        }
      ]
    },
    {
      "metadata": {
        "id": "YDPe526QL8um",
        "colab_type": "text"
      },
      "cell_type": "markdown",
      "source": [
        "DataFrame을 만들때 넣었던 순서와는 관계없이 <br>\n",
        "index에 들어가는 순서가 최종 col의 순서를 결정"
      ]
    },
    {
      "metadata": {
        "id": "pOFxg2-RMF8k",
        "colab_type": "code",
        "outputId": "81d81060-79ce-4325-8012-d6ff1223ede2",
        "colab": {
          "base_uri": "https://localhost:8080/",
          "height": 71
        }
      },
      "cell_type": "code",
      "source": [
        "scientist = pd.DataFrame(\n",
        "            data = {'Occupation': ['Chemist', 'Statistician'],\n",
        "                   'Born': ['1920-07-25', '1876-06-13'],\n",
        "                   'Died': ['1958-04-16', '1937-10-16'],\n",
        "                   'Age': [37, 61]},\n",
        "            index = ['Rosaline Franklin', 'William Gosset'],\n",
        "            columns = ['Occupation', 'Born', 'Age', 'Died'])\n",
        "\n",
        "print(scientist)"
      ],
      "execution_count": 0,
      "outputs": [
        {
          "output_type": "stream",
          "text": [
            "                     Occupation        Born  Age        Died\n",
            "Rosaline Franklin       Chemist  1920-07-25   37  1958-04-16\n",
            "William Gosset     Statistician  1876-06-13   61  1937-10-16\n"
          ],
          "name": "stdout"
        }
      ]
    },
    {
      "metadata": {
        "id": "iy2WvZA9M8od",
        "colab_type": "text"
      },
      "cell_type": "markdown",
      "source": [
        "그런데, 딕셔너리는 순서를 보장하지 않으니<br>\n",
        "OrderDict를 이용해 순서를 보장해야 한다. (pass)"
      ]
    },
    {
      "metadata": {
        "id": "ICa88YxjNG4E",
        "colab_type": "text"
      },
      "cell_type": "markdown",
      "source": [
        "# 3-2 시리즈 다루기 - 기초"
      ]
    },
    {
      "metadata": {
        "id": "SToqA_7aNLMs",
        "colab_type": "code",
        "outputId": "0c7374c5-ad5d-4fb4-d7b6-55bae3cb8841",
        "colab": {
          "base_uri": "https://localhost:8080/",
          "height": 35
        }
      },
      "cell_type": "code",
      "source": [
        "# 시리즈를 선택하고\n",
        "# 정말 시리즈를 선택한 것인지 확인하자\n",
        "\n",
        "first_row = scientist.loc['William Gosset']\n",
        "\n",
        "print(type(first_row))"
      ],
      "execution_count": 0,
      "outputs": [
        {
          "output_type": "stream",
          "text": [
            "<class 'pandas.core.series.Series'>\n"
          ],
          "name": "stdout"
        }
      ]
    },
    {
      "metadata": {
        "id": "gLGgfBC7NjWM",
        "colab_type": "code",
        "outputId": "864218b9-19ba-4ff4-ed44-1ccb89e2e801",
        "colab": {
          "base_uri": "https://localhost:8080/",
          "height": 107
        }
      },
      "cell_type": "code",
      "source": [
        "# 출력하면 자료형은 Object이다. \n",
        "# Age도 Object가 되버린것! \n",
        "print(first_row)"
      ],
      "execution_count": 0,
      "outputs": [
        {
          "output_type": "stream",
          "text": [
            "Occupation    Statistician\n",
            "Born            1876-06-13\n",
            "Age                     61\n",
            "Died            1937-10-16\n",
            "Name: William Gosset, dtype: object\n"
          ],
          "name": "stdout"
        }
      ]
    },
    {
      "metadata": {
        "id": "8NHGmdT-N7M1",
        "colab_type": "text"
      },
      "cell_type": "markdown",
      "source": [
        "### 시리즈 속성과 메서드 이용하기 - index, values, keys"
      ]
    },
    {
      "metadata": {
        "id": "JEvcgW3dOYHk",
        "colab_type": "code",
        "outputId": "bcfa7e88-84ea-42a0-ac74-5b66bb11070a",
        "colab": {
          "base_uri": "https://localhost:8080/",
          "height": 35
        }
      },
      "cell_type": "code",
      "source": [
        "# 1. index 속성 사용하기\n",
        "print(first_row.index)"
      ],
      "execution_count": 0,
      "outputs": [
        {
          "output_type": "stream",
          "text": [
            "Index(['Occupation', 'Born', 'Age', 'Died'], dtype='object')\n"
          ],
          "name": "stdout"
        }
      ]
    },
    {
      "metadata": {
        "id": "4DalrL72OTI8",
        "colab_type": "code",
        "outputId": "45691fa5-8f92-4e04-9f51-2033d9ca231c",
        "colab": {
          "base_uri": "https://localhost:8080/",
          "height": 35
        }
      },
      "cell_type": "code",
      "source": [
        "# 2. values 속성 사용하기\n",
        "print(first_row.values)"
      ],
      "execution_count": 0,
      "outputs": [
        {
          "output_type": "stream",
          "text": [
            "['Statistician' '1876-06-13' 61 '1937-10-16']\n"
          ],
          "name": "stdout"
        }
      ]
    },
    {
      "metadata": {
        "id": "BIv_ZNrHNxb0",
        "colab_type": "code",
        "outputId": "ff4741d8-345f-47e0-8807-4d1eb2f90ae8",
        "colab": {
          "base_uri": "https://localhost:8080/",
          "height": 35
        }
      },
      "cell_type": "code",
      "source": [
        "# 3. keys 메서드 이용하기\n",
        "print(first_row.keys())"
      ],
      "execution_count": 0,
      "outputs": [
        {
          "output_type": "stream",
          "text": [
            "Index(['Occupation', 'Born', 'Age', 'Died'], dtype='object')\n"
          ],
          "name": "stdout"
        }
      ]
    },
    {
      "metadata": {
        "id": "caAOsQ-YPAbU",
        "colab_type": "code",
        "outputId": "13c77beb-ae0b-45f7-efa9-7bf64237c50f",
        "colab": {
          "base_uri": "https://localhost:8080/",
          "height": 35
        }
      },
      "cell_type": "code",
      "source": [
        "# 4. index 속성 응용\n",
        "print(first_row.index[0])"
      ],
      "execution_count": 0,
      "outputs": [
        {
          "output_type": "stream",
          "text": [
            "Occupation\n"
          ],
          "name": "stdout"
        }
      ]
    },
    {
      "metadata": {
        "id": "yPiPBrOZPGKT",
        "colab_type": "code",
        "outputId": "8e0b225c-31b7-48dd-9410-e3f9b79e6e34",
        "colab": {
          "base_uri": "https://localhost:8080/",
          "height": 35
        }
      },
      "cell_type": "code",
      "source": [
        "# 5. keys 매서드 응용\n",
        "print(first_row.keys()[0])"
      ],
      "execution_count": 0,
      "outputs": [
        {
          "output_type": "stream",
          "text": [
            "Occupation\n"
          ],
          "name": "stdout"
        }
      ]
    },
    {
      "metadata": {
        "id": "D00PVySZPbF8",
        "colab_type": "text"
      },
      "cell_type": "markdown",
      "source": [
        "### 시리즈의 기초통계 매서드 사용하기"
      ]
    },
    {
      "metadata": {
        "id": "r4tVh5HEPdvz",
        "colab_type": "code",
        "outputId": "c57c9daa-35e2-4865-a7ee-75eeb0c80a0f",
        "colab": {
          "base_uri": "https://localhost:8080/",
          "height": 71
        }
      },
      "cell_type": "code",
      "source": [
        "# Age 추출\n",
        "ages = scientist['Age']\n",
        "print(ages)"
      ],
      "execution_count": 0,
      "outputs": [
        {
          "output_type": "stream",
          "text": [
            "Rosaline Franklin    37\n",
            "William Gosset       61\n",
            "Name: Age, dtype: int64\n"
          ],
          "name": "stdout"
        }
      ]
    },
    {
      "metadata": {
        "id": "43141k7pPmX8",
        "colab_type": "code",
        "outputId": "f22b37e1-7e13-49d2-da58-3349a1946317",
        "colab": {
          "base_uri": "https://localhost:8080/",
          "height": 89
        }
      },
      "cell_type": "code",
      "source": [
        "# 시리즈를 구성하느 내용이 정수라면, mean, min, max, std와 같은 기초 통계량을 구할 수 있다.\n",
        "print('평균 나이', ages.mean())\n",
        "print('최솟값', ages.min())\n",
        "print('최댓값', ages.max())\n",
        "print('표준편차', ages.std())"
      ],
      "execution_count": 0,
      "outputs": [
        {
          "output_type": "stream",
          "text": [
            "평균 나이 49.0\n",
            "최솟값 37\n",
            "최댓값 61\n",
            "표준편차 16.97056274847714\n"
          ],
          "name": "stdout"
        }
      ]
    },
    {
      "metadata": {
        "id": "IgrN12MqQCWF",
        "colab_type": "text"
      },
      "cell_type": "markdown",
      "source": [
        "### 시리즈 매서드 정리"
      ]
    },
    {
      "metadata": {
        "id": "Q1eGghM5QPWT",
        "colab_type": "code",
        "outputId": "445b273d-b11b-40d1-9eab-6ac90b5428fa",
        "colab": {
          "base_uri": "https://localhost:8080/",
          "height": 107
        }
      },
      "cell_type": "code",
      "source": [
        "# append : 두개 이상의 시리즈로 연결\n",
        "# 연결한 뒤, 인덱스가 문제다.\n",
        "ages2 = pd.Series([37,61])\n",
        "ages3 = ages.append(ages2)\n",
        "print(ages3)"
      ],
      "execution_count": 0,
      "outputs": [
        {
          "output_type": "stream",
          "text": [
            "Rosaline Franklin    37\n",
            "William Gosset       61\n",
            "0                    37\n",
            "1                    61\n",
            "dtype: int64\n"
          ],
          "name": "stdout"
        }
      ]
    },
    {
      "metadata": {
        "id": "TDOTTYvVQUm8",
        "colab_type": "code",
        "outputId": "f6ab3be3-b0eb-4798-d31a-d611005b99e8",
        "colab": {
          "base_uri": "https://localhost:8080/",
          "height": 297
        }
      },
      "cell_type": "code",
      "source": [
        "# describe : 요약 통계량 계산\n",
        "scientist.describe()"
      ],
      "execution_count": 0,
      "outputs": [
        {
          "output_type": "execute_result",
          "data": {
            "text/html": [
              "<div>\n",
              "<style scoped>\n",
              "    .dataframe tbody tr th:only-of-type {\n",
              "        vertical-align: middle;\n",
              "    }\n",
              "\n",
              "    .dataframe tbody tr th {\n",
              "        vertical-align: top;\n",
              "    }\n",
              "\n",
              "    .dataframe thead th {\n",
              "        text-align: right;\n",
              "    }\n",
              "</style>\n",
              "<table border=\"1\" class=\"dataframe\">\n",
              "  <thead>\n",
              "    <tr style=\"text-align: right;\">\n",
              "      <th></th>\n",
              "      <th>Age</th>\n",
              "    </tr>\n",
              "  </thead>\n",
              "  <tbody>\n",
              "    <tr>\n",
              "      <th>count</th>\n",
              "      <td>2.000000</td>\n",
              "    </tr>\n",
              "    <tr>\n",
              "      <th>mean</th>\n",
              "      <td>49.000000</td>\n",
              "    </tr>\n",
              "    <tr>\n",
              "      <th>std</th>\n",
              "      <td>16.970563</td>\n",
              "    </tr>\n",
              "    <tr>\n",
              "      <th>min</th>\n",
              "      <td>37.000000</td>\n",
              "    </tr>\n",
              "    <tr>\n",
              "      <th>25%</th>\n",
              "      <td>43.000000</td>\n",
              "    </tr>\n",
              "    <tr>\n",
              "      <th>50%</th>\n",
              "      <td>49.000000</td>\n",
              "    </tr>\n",
              "    <tr>\n",
              "      <th>75%</th>\n",
              "      <td>55.000000</td>\n",
              "    </tr>\n",
              "    <tr>\n",
              "      <th>max</th>\n",
              "      <td>61.000000</td>\n",
              "    </tr>\n",
              "  </tbody>\n",
              "</table>\n",
              "</div>"
            ],
            "text/plain": [
              "             Age\n",
              "count   2.000000\n",
              "mean   49.000000\n",
              "std    16.970563\n",
              "min    37.000000\n",
              "25%    43.000000\n",
              "50%    49.000000\n",
              "75%    55.000000\n",
              "max    61.000000"
            ]
          },
          "metadata": {
            "tags": []
          },
          "execution_count": 25
        }
      ]
    },
    {
      "metadata": {
        "id": "403t9dPGNpTs",
        "colab_type": "code",
        "outputId": "293666a9-5027-4561-c011-1ee18f1ccd4b",
        "colab": {
          "base_uri": "https://localhost:8080/",
          "height": 107
        }
      },
      "cell_type": "code",
      "source": [
        "# drop_duplicates : 중복이 없는 시리즈 반환\n",
        "# 인덱스가 다르면 중복이 제거되지 않는다.\n",
        "print(ages3.drop_duplicates)"
      ],
      "execution_count": 0,
      "outputs": [
        {
          "output_type": "stream",
          "text": [
            "<bound method Series.drop_duplicates of Rosaline Franklin    37\n",
            "William Gosset       61\n",
            "0                    37\n",
            "1                    61\n",
            "dtype: int64>\n"
          ],
          "name": "stdout"
        }
      ]
    },
    {
      "metadata": {
        "id": "_S1gyIyYRD1j",
        "colab_type": "code",
        "outputId": "1d0997b0-3b9c-4a6d-8c4a-ec986c3a4482",
        "colab": {
          "base_uri": "https://localhost:8080/",
          "height": 35
        }
      },
      "cell_type": "code",
      "source": [
        "# equals : 시리즈에 해당하는 값을 가진 요소가 있는지 확인\n",
        "# 책설명이 잘못된것 같다. --> 시리즈끼리 같은지 검사\n",
        "ages.equals(ages)"
      ],
      "execution_count": 0,
      "outputs": [
        {
          "output_type": "execute_result",
          "data": {
            "text/plain": [
              "True"
            ]
          },
          "metadata": {
            "tags": []
          },
          "execution_count": 36
        }
      ]
    },
    {
      "metadata": {
        "id": "Jdjrj4CORrti",
        "colab_type": "code",
        "outputId": "f4ed8392-558f-4cc5-9f0b-b4d44fd97198",
        "colab": {
          "base_uri": "https://localhost:8080/",
          "height": 35
        }
      },
      "cell_type": "code",
      "source": [
        "# get_values : values과 동일\n",
        "print(ages.get_values())"
      ],
      "execution_count": 0,
      "outputs": [
        {
          "output_type": "stream",
          "text": [
            "[37 61]\n"
          ],
          "name": "stdout"
        }
      ]
    },
    {
      "metadata": {
        "id": "xHALRdNLRxT7",
        "colab_type": "code",
        "outputId": "510ab473-15d6-4405-d260-803d10663f0a",
        "colab": {
          "base_uri": "https://localhost:8080/",
          "height": 143
        }
      },
      "cell_type": "code",
      "source": [
        "# isin : 시리즈에 포함된 값이 있는지 확인\n",
        "print(ages.isin([61, 37]))\n",
        "print('------------------------')\n",
        "print(ages.isin([37, 61]))"
      ],
      "execution_count": 0,
      "outputs": [
        {
          "output_type": "stream",
          "text": [
            "Rosaline Franklin    True\n",
            "William Gosset       True\n",
            "Name: Age, dtype: bool\n",
            "------------------------\n",
            "Rosaline Franklin    True\n",
            "William Gosset       True\n",
            "Name: Age, dtype: bool\n"
          ],
          "name": "stdout"
        }
      ]
    },
    {
      "metadata": {
        "id": "1a4mfTOtNFfU",
        "colab_type": "code",
        "outputId": "6ad0054a-023a-4b1f-d287-fc85ef2130cb",
        "colab": {
          "base_uri": "https://localhost:8080/",
          "height": 35
        }
      },
      "cell_type": "code",
      "source": [
        "# median : 중간값 반환\n",
        "print(ages.median())"
      ],
      "execution_count": 0,
      "outputs": [
        {
          "output_type": "stream",
          "text": [
            "49.0\n"
          ],
          "name": "stdout"
        }
      ]
    },
    {
      "metadata": {
        "id": "w87DpbreSKQa",
        "colab_type": "code",
        "outputId": "e908557b-4520-4786-b8a6-bf60b6fe60c5",
        "colab": {
          "base_uri": "https://localhost:8080/",
          "height": 71
        }
      },
      "cell_type": "code",
      "source": [
        "# replace : 특정 값을 가진 시리즈 값을 교체\n",
        "ages.replace(61, 100)"
      ],
      "execution_count": 0,
      "outputs": [
        {
          "output_type": "execute_result",
          "data": {
            "text/plain": [
              "Rosaline Franklin     37\n",
              "William Gosset       100\n",
              "Name: Age, dtype: int64"
            ]
          },
          "metadata": {
            "tags": []
          },
          "execution_count": 53
        }
      ]
    },
    {
      "metadata": {
        "id": "y8l0VJV9SlKS",
        "colab_type": "code",
        "outputId": "8eccaaf8-e7f4-4725-f605-815f417e7c83",
        "colab": {
          "base_uri": "https://localhost:8080/",
          "height": 161
        }
      },
      "cell_type": "code",
      "source": [
        "# sample : 랜덤으로 값 반환\n",
        "print(ages.sample())\n",
        "print('----------------')\n",
        "print(ages.sample(4, replace = True))"
      ],
      "execution_count": 0,
      "outputs": [
        {
          "output_type": "stream",
          "text": [
            "Rosaline Franklin    37\n",
            "Name: Age, dtype: int64\n",
            "----------------\n",
            "Rosaline Franklin    37\n",
            "Rosaline Franklin    37\n",
            "William Gosset       61\n",
            "William Gosset       61\n",
            "Name: Age, dtype: int64\n"
          ],
          "name": "stdout"
        }
      ]
    },
    {
      "metadata": {
        "id": "qOPtGGFOND48",
        "colab_type": "code",
        "outputId": "cb9f8f1f-6d2f-495d-e988-cd696a94ef59",
        "colab": {
          "base_uri": "https://localhost:8080/",
          "height": 71
        }
      },
      "cell_type": "code",
      "source": [
        "# sort_values : 값 정렬\n",
        "ages.sort_values()"
      ],
      "execution_count": 0,
      "outputs": [
        {
          "output_type": "execute_result",
          "data": {
            "text/plain": [
              "Rosaline Franklin    37\n",
              "William Gosset       61\n",
              "Name: Age, dtype: int64"
            ]
          },
          "metadata": {
            "tags": []
          },
          "execution_count": 59
        }
      ]
    },
    {
      "metadata": {
        "id": "t9nA2oiyMwHE",
        "colab_type": "code",
        "outputId": "e3678b0d-7124-403d-863a-45b2fcfb28f6",
        "colab": {
          "base_uri": "https://localhost:8080/",
          "height": 111
        }
      },
      "cell_type": "code",
      "source": [
        "# to_frame : 시리즈를 데이터 프레임으로 변환\n",
        "ages.to_frame()"
      ],
      "execution_count": 0,
      "outputs": [
        {
          "output_type": "execute_result",
          "data": {
            "text/html": [
              "<div>\n",
              "<style scoped>\n",
              "    .dataframe tbody tr th:only-of-type {\n",
              "        vertical-align: middle;\n",
              "    }\n",
              "\n",
              "    .dataframe tbody tr th {\n",
              "        vertical-align: top;\n",
              "    }\n",
              "\n",
              "    .dataframe thead th {\n",
              "        text-align: right;\n",
              "    }\n",
              "</style>\n",
              "<table border=\"1\" class=\"dataframe\">\n",
              "  <thead>\n",
              "    <tr style=\"text-align: right;\">\n",
              "      <th></th>\n",
              "      <th>Age</th>\n",
              "    </tr>\n",
              "  </thead>\n",
              "  <tbody>\n",
              "    <tr>\n",
              "      <th>Rosaline Franklin</th>\n",
              "      <td>37</td>\n",
              "    </tr>\n",
              "    <tr>\n",
              "      <th>William Gosset</th>\n",
              "      <td>61</td>\n",
              "    </tr>\n",
              "  </tbody>\n",
              "</table>\n",
              "</div>"
            ],
            "text/plain": [
              "                   Age\n",
              "Rosaline Franklin   37\n",
              "William Gosset      61"
            ]
          },
          "metadata": {
            "tags": []
          },
          "execution_count": 60
        }
      ]
    },
    {
      "metadata": {
        "id": "vmHhXcR2TC-T",
        "colab_type": "text"
      },
      "cell_type": "markdown",
      "source": [
        "# 3-3 시리즈 다루기 - 응용"
      ]
    },
    {
      "metadata": {
        "id": "fxyolAeOTBKK",
        "colab_type": "code",
        "colab": {}
      },
      "cell_type": "code",
      "source": [
        "# 코랩에서 데이터 불러오는 법을 모르겠다."
      ],
      "execution_count": 0,
      "outputs": []
    },
    {
      "metadata": {
        "id": "717OCweWYDRS",
        "colab_type": "text"
      },
      "cell_type": "markdown",
      "source": [
        "### 시리즈와 브로드 캐스팅\n",
        "\n",
        "R의 apply 연산처럼 한번에 하는 벡터연산을 Python에서 브로드 캐스팅이라고 한다. "
      ]
    },
    {
      "metadata": {
        "id": "L-Q8daRcYBjp",
        "colab_type": "code",
        "outputId": "2928c8ad-b3db-4b3c-f5cb-2326c558f9f0",
        "colab": {
          "base_uri": "https://localhost:8080/",
          "height": 71
        }
      },
      "cell_type": "code",
      "source": [
        "print(ages + ages)"
      ],
      "execution_count": 0,
      "outputs": [
        {
          "output_type": "stream",
          "text": [
            "Rosaline Franklin     74\n",
            "William Gosset       122\n",
            "Name: Age, dtype: int64\n"
          ],
          "name": "stdout"
        }
      ]
    },
    {
      "metadata": {
        "id": "PlR16saLTGeC",
        "colab_type": "code",
        "outputId": "a65f22f5-4051-450a-e012-1c26459de2a1",
        "colab": {
          "base_uri": "https://localhost:8080/",
          "height": 71
        }
      },
      "cell_type": "code",
      "source": [
        "# 길이가 다른 벡터를 연산하면 어떻게 될까?\n",
        "# 인덱스가 일치한 부분만 계산\n",
        "print(ages + pd.Series([1], index = ['Rosaline Franklin']))"
      ],
      "execution_count": 0,
      "outputs": [
        {
          "output_type": "stream",
          "text": [
            "Rosaline Franklin    38.0\n",
            "William Gosset        NaN\n",
            "dtype: float64\n"
          ],
          "name": "stdout"
        }
      ]
    },
    {
      "metadata": {
        "id": "w8gEveMpYnZR",
        "colab_type": "code",
        "outputId": "a3100964-84e0-469a-eba3-bfc90e18176a",
        "colab": {
          "base_uri": "https://localhost:8080/",
          "height": 71
        }
      },
      "cell_type": "code",
      "source": [
        "# 역으로 정렬된 rev_ages와 ages를 연산하면 어떤 결과가 나올까?\n",
        "rev_ages = ages.sort_index(ascending = False)\n",
        "print(rev_ages)"
      ],
      "execution_count": 0,
      "outputs": [
        {
          "output_type": "stream",
          "text": [
            "William Gosset       61\n",
            "Rosaline Franklin    37\n",
            "Name: Age, dtype: int64\n"
          ],
          "name": "stdout"
        }
      ]
    },
    {
      "metadata": {
        "id": "T07kL8E7Y_aw",
        "colab_type": "code",
        "outputId": "6bc3ebf5-7f26-4799-90f0-648586e7dbfb",
        "colab": {
          "base_uri": "https://localhost:8080/",
          "height": 143
        }
      },
      "cell_type": "code",
      "source": [
        "# 역순으로 해도 같은 인덱스 끼리 연산을 한다. \n",
        "print('비교 1: ', ages*2)\n",
        "print('-----------------')\n",
        "print('비교 2: ', ages + rev_ages)"
      ],
      "execution_count": 0,
      "outputs": [
        {
          "output_type": "stream",
          "text": [
            "비교 1:  Rosaline Franklin     74\n",
            "William Gosset       122\n",
            "Name: Age, dtype: int64\n",
            "-----------------\n",
            "비교 2:  Rosaline Franklin     74\n",
            "William Gosset       122\n",
            "Name: Age, dtype: int64\n"
          ],
          "name": "stdout"
        }
      ]
    },
    {
      "metadata": {
        "id": "EpwKL9NOb8hR",
        "colab_type": "text"
      },
      "cell_type": "markdown",
      "source": [
        "# 3-5 시리즈와 데이터 프레임의 데이터 처리하기\n"
      ]
    },
    {
      "metadata": {
        "id": "Ng_usacgdXLM",
        "colab_type": "text"
      },
      "cell_type": "markdown",
      "source": [
        "### Born과 Died의 자료형 변경하기"
      ]
    },
    {
      "metadata": {
        "id": "v9NtiUyJZHso",
        "colab_type": "code",
        "outputId": "b5120195-c028-41a8-9a41-dbe52e44865e",
        "colab": {
          "base_uri": "https://localhost:8080/",
          "height": 53
        }
      },
      "cell_type": "code",
      "source": [
        "# Born과 Died의 자료형 변경하기\n",
        "print(scientist['Born'].dtype)\n",
        "print(scientist['Died'].dtype)"
      ],
      "execution_count": 0,
      "outputs": [
        {
          "output_type": "stream",
          "text": [
            "object\n",
            "object\n"
          ],
          "name": "stdout"
        }
      ]
    },
    {
      "metadata": {
        "id": "kuB6wOy2Lljd",
        "colab_type": "code",
        "outputId": "af4b5daa-2d58-4e1a-fe90-76bfa4293c35",
        "colab": {
          "base_uri": "https://localhost:8080/",
          "height": 143
        }
      },
      "cell_type": "code",
      "source": [
        "# 날자에 맞는 포맷을 적용한다.\n",
        "born_datetime = pd.to_datetime(scientist['Born'], format = '%Y-%m-%d')\n",
        "print(born_datetime)\n",
        "\n",
        "print('-------------------')\n",
        "\n",
        "died_datetime = pd.to_datetime(scientist['Died'], format = '%Y-%m-%d')\n",
        "print(died_datetime)"
      ],
      "execution_count": 0,
      "outputs": [
        {
          "output_type": "stream",
          "text": [
            "Rosaline Franklin   1920-07-25\n",
            "William Gosset      1876-06-13\n",
            "Name: Born, dtype: datetime64[ns]\n",
            "-------------------\n",
            "Rosaline Franklin   1958-04-16\n",
            "William Gosset      1937-10-16\n",
            "Name: Died, dtype: datetime64[ns]\n"
          ],
          "name": "stdout"
        }
      ]
    },
    {
      "metadata": {
        "id": "MOdqKd_ucdgn",
        "colab_type": "code",
        "colab": {}
      },
      "cell_type": "code",
      "source": [
        "# 새로운 열로 추가\n",
        "scientist['born_dt'], scientist['died_dt'] = (born_datetime, died_datetime)"
      ],
      "execution_count": 0,
      "outputs": []
    },
    {
      "metadata": {
        "id": "R2MgSg_7ZACx",
        "colab_type": "code",
        "outputId": "e131a4d8-dc5e-4a85-e36a-4ecc59f31d00",
        "colab": {
          "base_uri": "https://localhost:8080/",
          "height": 161
        }
      },
      "cell_type": "code",
      "source": [
        "print(scientist.shape) # 2개가 추가 되었다.\n",
        "print(scientist.head())"
      ],
      "execution_count": 0,
      "outputs": [
        {
          "output_type": "stream",
          "text": [
            "(2, 6)\n",
            "                     Occupation        Born  Age        Died    born_dt  \\\n",
            "Rosaline Franklin       Chemist  1920-07-25   37  1958-04-16 1920-07-25   \n",
            "William Gosset     Statistician  1876-06-13   61  1937-10-16 1876-06-13   \n",
            "\n",
            "                     died_dt  \n",
            "Rosaline Franklin 1958-04-16  \n",
            "William Gosset    1937-10-16  \n"
          ],
          "name": "stdout"
        }
      ]
    },
    {
      "metadata": {
        "id": "XEP1hWbWdCWS",
        "colab_type": "code",
        "outputId": "50b3cf3e-c22f-4440-fae8-562ac784c139",
        "colab": {
          "base_uri": "https://localhost:8080/",
          "height": 143
        }
      },
      "cell_type": "code",
      "source": [
        "# 차이를 통해 과학자들이 얼마동안 세상을 살았는지 확인\n",
        "scientist['age_day_dt'] = (scientist['died_dt'] - scientist['born_dt'])\n",
        "print(scientist)"
      ],
      "execution_count": 0,
      "outputs": [
        {
          "output_type": "stream",
          "text": [
            "                     Occupation        Born  Age        Died    born_dt  \\\n",
            "Rosaline Franklin       Chemist  1920-07-25   37  1958-04-16 1920-07-25   \n",
            "William Gosset     Statistician  1876-06-13   61  1937-10-16 1876-06-13   \n",
            "\n",
            "                     died_dt age_day_dt  \n",
            "Rosaline Franklin 1958-04-16 13779 days  \n",
            "William Gosset    1937-10-16 22404 days  \n"
          ],
          "name": "stdout"
        }
      ]
    },
    {
      "metadata": {
        "id": "tMU7Odv5dapD",
        "colab_type": "text"
      },
      "cell_type": "markdown",
      "source": [
        "### 데이터 섞기"
      ]
    },
    {
      "metadata": {
        "id": "t2wgjlM5dc_7",
        "colab_type": "code",
        "colab": {}
      },
      "cell_type": "code",
      "source": [
        "import random"
      ],
      "execution_count": 0,
      "outputs": []
    },
    {
      "metadata": {
        "id": "_inlPgMcdnkH",
        "colab_type": "code",
        "outputId": "d4e041a1-e17e-4b06-fc2f-0c33dd89eca8",
        "colab": {
          "base_uri": "https://localhost:8080/",
          "height": 161
        }
      },
      "cell_type": "code",
      "source": [
        "#random.seed(42)\n",
        "random.shuffle(scientist['Age'])\n",
        "print(scientist['Age'])"
      ],
      "execution_count": 0,
      "outputs": [
        {
          "output_type": "stream",
          "text": [
            "Rosaline Franklin    61\n",
            "William Gosset       37\n",
            "Name: Age, dtype: int64\n"
          ],
          "name": "stdout"
        },
        {
          "output_type": "stream",
          "text": [
            "/usr/lib/python3.6/random.py:277: SettingWithCopyWarning: \n",
            "A value is trying to be set on a copy of a slice from a DataFrame\n",
            "\n",
            "See the caveats in the documentation: http://pandas.pydata.org/pandas-docs/stable/indexing.html#indexing-view-versus-copy\n",
            "  x[i], x[j] = x[j], x[i]\n"
          ],
          "name": "stderr"
        }
      ]
    },
    {
      "metadata": {
        "id": "ncwa2lZufmUh",
        "colab_type": "text"
      },
      "cell_type": "markdown",
      "source": [
        "### 열 삭제하기"
      ]
    },
    {
      "metadata": {
        "id": "fiK5l-MOfn1-",
        "colab_type": "code",
        "outputId": "21540901-2a4a-40b8-9acc-4b19303b284e",
        "colab": {
          "base_uri": "https://localhost:8080/",
          "height": 143
        }
      },
      "cell_type": "code",
      "source": [
        "df_dropped = scientist.drop(['Age'], axis = 1)\n",
        "print(df_dropped)"
      ],
      "execution_count": 0,
      "outputs": [
        {
          "output_type": "stream",
          "text": [
            "                     Occupation        Born        Died    born_dt    died_dt  \\\n",
            "Rosaline Franklin       Chemist  1920-07-25  1958-04-16 1920-07-25 1958-04-16   \n",
            "William Gosset     Statistician  1876-06-13  1937-10-16 1876-06-13 1937-10-16   \n",
            "\n",
            "                  age_day_dt  \n",
            "Rosaline Franklin 13779 days  \n",
            "William Gosset    22404 days  \n"
          ],
          "name": "stdout"
        }
      ]
    },
    {
      "metadata": {
        "id": "NTVBODfFdp8_",
        "colab_type": "code",
        "outputId": "e1c2b641-6161-484c-ab0a-6fc93d078209",
        "colab": {
          "base_uri": "https://localhost:8080/",
          "height": 71
        }
      },
      "cell_type": "code",
      "source": [
        ""
      ],
      "execution_count": 0,
      "outputs": [
        {
          "output_type": "execute_result",
          "data": {
            "text/plain": [
              "Rosaline Franklin    37\n",
              "William Gosset       61\n",
              "Name: Age, dtype: int64"
            ]
          },
          "metadata": {
            "tags": []
          },
          "execution_count": 107
        }
      ]
    },
    {
      "metadata": {
        "id": "DjpTWe8AdkW_",
        "colab_type": "code",
        "colab": {}
      },
      "cell_type": "code",
      "source": [
        ""
      ],
      "execution_count": 0,
      "outputs": []
    },
    {
      "metadata": {
        "id": "T-lPHqf1dCYr",
        "colab_type": "code",
        "colab": {}
      },
      "cell_type": "code",
      "source": [
        ""
      ],
      "execution_count": 0,
      "outputs": []
    },
    {
      "metadata": {
        "id": "k7Nh_KpUdCa8",
        "colab_type": "code",
        "colab": {}
      },
      "cell_type": "code",
      "source": [
        ""
      ],
      "execution_count": 0,
      "outputs": []
    },
    {
      "metadata": {
        "id": "rjTTfEtzdCdZ",
        "colab_type": "code",
        "colab": {}
      },
      "cell_type": "code",
      "source": [
        ""
      ],
      "execution_count": 0,
      "outputs": []
    },
    {
      "metadata": {
        "id": "QTek-UIGdCfP",
        "colab_type": "code",
        "colab": {}
      },
      "cell_type": "code",
      "source": [
        ""
      ],
      "execution_count": 0,
      "outputs": []
    }
  ]
}